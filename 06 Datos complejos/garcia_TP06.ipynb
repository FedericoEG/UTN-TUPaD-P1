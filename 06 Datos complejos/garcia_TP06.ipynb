{
 "cells": [
  {
   "cell_type": "markdown",
   "metadata": {},
   "source": [
    "# Práctico 6: Datos Complejos"
   ]
  },
  {
   "cell_type": "markdown",
   "metadata": {},
   "source": [
    "1. Dado el diccionario precios_frutas\n",
    "precios_frutas = {'Banana': 1200, 'Ananá': 2500, 'Melón': 3000, 'Uva':\n",
    "1450}\n",
    "Añadir las siguientes frutas con sus respectivos precios:\n",
    "* Naranja = 1200\n",
    "* Manzana = 1500\n",
    "* Pera = 2300"
   ]
  },
  {
   "cell_type": "code",
   "execution_count": null,
   "metadata": {},
   "outputs": [],
   "source": [
    "precios_frutas = {'Banana': 1200, 'Ananá': 2500, 'Melón': 3000, 'Uva':\n",
    "1450}\n",
    "\n",
    "precios_frutas['Naranja'] = 1200\n",
    "precios_frutas['Manzana'] = 1500\n",
    "precios_frutas['Pera'] = 2300"
   ]
  },
  {
   "cell_type": "markdown",
   "metadata": {},
   "source": [
    "2. Siguiendo con el diccionario precios_frutas que resulta luego de ejecutar el código\n",
    "desarrollado en el punto anterior, actualizar los precios de las siguientes frutas:\n",
    "* Banana = 1330\n",
    "* Manzana = 1700\n",
    "* Melón = 2800"
   ]
  },
  {
   "cell_type": "code",
   "execution_count": null,
   "metadata": {},
   "outputs": [],
   "source": [
    "precios_frutas['Banana'] = 1330\n",
    "precios_frutas['Manzana'] = 1700\n",
    "precios_frutas['Melón'] = 2800"
   ]
  },
  {
   "cell_type": "markdown",
   "metadata": {},
   "source": [
    "3. Siguiendo con el diccionario precios_frutas que resulta luego de ejecutar el código\n",
    "desarrollado en el punto anterior, crear una lista que contenga únicamente las frutas sin los\n",
    "precios."
   ]
  },
  {
   "cell_type": "code",
   "execution_count": null,
   "metadata": {},
   "outputs": [],
   "source": [
    "lista_frutas = list(precios_frutas.keys())"
   ]
  },
  {
   "cell_type": "markdown",
   "metadata": {},
   "source": [
    "4. Crear una clase llamada Persona que contenga un método __init__ con los atributos\n",
    "nombre, pais y edad y el método saludar. El método saludar debe imprimir por pantalla un\n",
    "mensaje de salud que siga la estructura \"¡Hola! Soy [nombre], vivo en [pais] y tengo [edad]\n",
    "años.\""
   ]
  },
  {
   "cell_type": "code",
   "execution_count": null,
   "metadata": {},
   "outputs": [],
   "source": [
    "class Persona:\n",
    "  def __init__(self, nombre, pais, edad):\n",
    "    self.nombre = nombre\n",
    "    self.pais = pais\n",
    "    self.edad = edad\n",
    "\n",
    "  def saludar(self):\n",
    "    print(f\"¡Hola! Soy {self.nombre}, vivo en {self.pais} y tengo {self.edad} años.\")"
   ]
  },
  {
   "cell_type": "markdown",
   "metadata": {},
   "source": [
    "5. Crear una clase llamada Circulo que contenga el atributo radio y los métodos calcular_area y\n",
    "calcular_perimetro. Dichos métodos deben calcular el parámetro correspondiente.\n",
    "Ayuda: el módulo math puede ser de utilidad para usar la constante 𝜋."
   ]
  },
  {
   "cell_type": "code",
   "execution_count": null,
   "metadata": {},
   "outputs": [],
   "source": [
    "import math\n",
    "\n",
    "class Circulo:\n",
    "  def __init__(self, radio):\n",
    "    self.radio = radio\n",
    "\n",
    "  def calcular_area_circulo(self):\n",
    "    return round(math.pi * self.radio ** 2, 2)\n",
    "\n",
    "  def calcular_perimetro_circulo(self):\n",
    "    return round(2 * math.pi * self.radio, 2)\n"
   ]
  },
  {
   "cell_type": "markdown",
   "metadata": {},
   "source": [
    "6. Dado un string con paréntesis \"()\", \"{}\", \"[]\", verifica si están correctamente balanceados usando una pila."
   ]
  },
  {
   "cell_type": "code",
   "execution_count": null,
   "metadata": {},
   "outputs": [],
   "source": [
    "class Pila:\n",
    "  def __init__(self, string):\n",
    "    self.lista = list(string)\n",
    "    self.pares = {\"(\": \")\", \"{\": \"}\", \"[\": \"]\"}\n",
    "\n",
    "  def esta_balanceado(self):\n",
    "    balanceado = True\n",
    "    if(len(self.lista)%2 != 0):\n",
    "      balanceado = False\n",
    "      return balanceado\n",
    "    else:\n",
    "      incremento = 0\n",
    "      decremento = len(self.lista)-1\n",
    "\n",
    "      while incremento >= decremento or not balanceado:\n",
    "        balanceado = self.pares[self.lista[incremento]] == self.lista[decremento]\n",
    "        incremento += 1\n",
    "        decremento -= 1\n",
    "    return balanceado\n"
   ]
  },
  {
   "cell_type": "markdown",
   "metadata": {},
   "source": [
    "7. Usa una cola para simular un sistema de turnos en un banco. La cola debe permitir:\n",
    "* Agregar clientes (encolar).\n",
    "* Atender clientes (desencolar).\n",
    "* Mostrar el siguiente cliente en la fila."
   ]
  },
  {
   "cell_type": "code",
   "execution_count": null,
   "metadata": {},
   "outputs": [],
   "source": [
    "from collections import deque\n",
    "\n",
    "class Cola:\n",
    "  def __init__(self):\n",
    "    self.turnos = deque()\n",
    "\n",
    "  def agregar_cliente(self, turno):\n",
    "      self.turnos.append(turno)\n",
    "\n",
    "  def atender_cliente(self):\n",
    "    return self.turnos.popleft() if not self.esta_vacia() else \"No hay gente esperando a ser atendida\"\n",
    "\n",
    "  def esta_vacia(self):\n",
    "    return len(self.turnos) == 0\n",
    "\n",
    "  def ver_siguiente(self):\n",
    "    return self.turnos[0] if not self.esta_vacia() else \"No hay gente esperando a ser atendida\"\n",
    "\n"
   ]
  },
  {
   "cell_type": "markdown",
   "metadata": {},
   "source": [
    "8. Crea una lista enlazada que permita insertar nodos al inicio y recorrer la lista para mostrar los valores almacenados."
   ]
  },
  {
   "cell_type": "code",
   "execution_count": null,
   "metadata": {},
   "outputs": [],
   "source": [
    "class Nodo:\n",
    "  def __init__(self, valor):\n",
    "    self.valor = valor\n",
    "    self.siguiente = None\n",
    "\n",
    "class ListaEnlazada:\n",
    "  def __init__(self):\n",
    "    self.cabeza = None\n",
    "\n",
    "  def insertar(self, valor):\n",
    "    nuevo_nodo = Nodo(valor)\n",
    "    nuevo_nodo.siguiente = self.cabeza\n",
    "    self.cabeza = nuevo_nodo\n",
    "\n",
    "  def mostrar(self):\n",
    "    actual = self.cabeza\n",
    "    while actual:\n",
    "      print(actual.valor, end=', ')\n",
    "      actual = actual.siguiente\n",
    "    print(\"None\")"
   ]
  },
  {
   "cell_type": "markdown",
   "metadata": {},
   "source": [
    "9. Dada una lista enlazada, implementa una función para invertirla."
   ]
  },
  {
   "cell_type": "code",
   "execution_count": null,
   "metadata": {},
   "outputs": [],
   "source": [
    "class Nodo:\n",
    "  def __init__(self, valor):\n",
    "    self.valor = valor\n",
    "    self.siguiente = None\n",
    "\n",
    "class ListaEnlazada:\n",
    "  def __init__(self):\n",
    "    self.cabeza = None\n",
    "\n",
    "  def insertar(self, valor):\n",
    "    nuevo_nodo = Nodo(valor)\n",
    "    nuevo_nodo.siguiente = self.cabeza\n",
    "    self.cabeza = nuevo_nodo\n",
    "\n",
    "  def invertir_lista(self):\n",
    "    previo = None\n",
    "    actual = self.cabeza\n",
    "    while actual:\n",
    "      siguiente = actual.siguiente\n",
    "      actual.siguiente = previo\n",
    "      previo = actual\n",
    "      actual = siguiente\n",
    "    self.cabeza = previo\n",
    "\n",
    "  def mostrar(self):\n",
    "    actual = self.cabeza\n",
    "    while actual:\n",
    "      print(actual.valor, end=', ')\n",
    "      actual = actual.siguiente\n",
    "    print(\"None\")"
   ]
  }
 ],
 "metadata": {
  "kernelspec": {
   "display_name": "Python 3",
   "language": "python",
   "name": "python3"
  },
  "language_info": {
   "codemirror_mode": {
    "name": "ipython",
    "version": 3
   },
   "file_extension": ".py",
   "mimetype": "text/x-python",
   "name": "python",
   "nbconvert_exporter": "python",
   "pygments_lexer": "ipython3",
   "version": "3.13.2"
  }
 },
 "nbformat": 4,
 "nbformat_minor": 2
}
