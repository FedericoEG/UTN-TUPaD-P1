{
 "cells": [
  {
   "cell_type": "markdown",
   "metadata": {},
   "source": [
    "# Práctico 5: Funciones"
   ]
  },
  {
   "cell_type": "markdown",
   "metadata": {},
   "source": [
    "1. Crear una función llamada imprimir_hola_mundo que imprima por\n",
    "pantalla el mensaje: “Hola Mundo!”. Llamar a esta función desde el\n",
    "programa principal."
   ]
  },
  {
   "cell_type": "code",
   "execution_count": null,
   "metadata": {},
   "outputs": [],
   "source": [
    "def imprimir_hola_mundo():\n",
    "  print(\"Hola, mundo!\")\n",
    "\n",
    "imprimir_hola_mundo()"
   ]
  },
  {
   "cell_type": "markdown",
   "metadata": {},
   "source": [
    "2. Crear una función llamada saludar_usuario(nombre) que reciba\n",
    "como parámetro un nombre y devuelva un saludo personalizado.\n",
    "Por ejemplo, si se llama con saludar_usuario(\"Marcos\"), deberá devolver:\n",
    "“Hola Marcos!”. Llamar a esta función desde el programa\n",
    "principal solicitando el nombre al usuario."
   ]
  },
  {
   "cell_type": "code",
   "execution_count": null,
   "metadata": {},
   "outputs": [],
   "source": [
    "def saludar_usuario(name):\n",
    "  print(f\"Hola, {name}!\")\n",
    "\n",
    "name = input(\"¿Cuál es tu nombre?: \")\n",
    "saludar_usuario(name)\n"
   ]
  },
  {
   "cell_type": "markdown",
   "metadata": {},
   "source": [
    "3. Crear una función llamada informacion_personal(nombre, apellido,\n",
    "edad, residencia) que reciba cuatro parámetros e imprima: “Soy\n",
    "[nombre] [apellido], tengo [edad] años y vivo en [residencia]”. Pedir\n",
    "los datos al usuario y llamar a esta función con los valores ingresados."
   ]
  },
  {
   "cell_type": "code",
   "execution_count": null,
   "metadata": {},
   "outputs": [],
   "source": [
    "def informacion_personal(name, surname, age, residence):\n",
    "  print(f\"Soy {name} {surname}, tengo {age} años y vivo en {residence}\")\n",
    "\n",
    "name = input(\"¿Cuál es tu nombre?: \")\n",
    "surname = input(\"¿Cuál es tu apellido?: \")\n",
    "age = input(\"¿Cuántos años tienes?: \")\n",
    "residence = input(\"¿Dónde vives?: \")\n",
    "informacion_personal(name, surname, age, residence)"
   ]
  },
  {
   "cell_type": "markdown",
   "metadata": {},
   "source": [
    "4. Crear dos funciones: calcular_area_circulo(radio) que reciba el radio\n",
    "como parámetro y devuelva el área del círculo. calcular_perimetro_\n",
    "circulo(radio) que reciba el radio como parámetro y devuelva\n",
    "el perímetro del círculo. Solicitar el radio al usuario y llamar ambas\n",
    "funciones para mostrar los resultados."
   ]
  },
  {
   "cell_type": "code",
   "execution_count": null,
   "metadata": {},
   "outputs": [],
   "source": [
    "def calcular_area_circulo(radio):\n",
    "  return round(3.14 * radio ** 2, 2)\n",
    "\n",
    "def calcular_perimetro_circulo(redio):\n",
    "  return round(2 * 3.14 * radio, 2)\n",
    "\n",
    "radio = float(input(\"¿Cuál es el radio del círculo?: \"))\n",
    "print(f\"El área de tu círculo es: {calcular_area_circulo(radio)} y su perímetro es: {calcular_perimetro_circulo(radio)}\")"
   ]
  },
  {
   "cell_type": "markdown",
   "metadata": {},
   "source": [
    "5. Crear una función llamada segundos_a_horas(segundos) que reciba\n",
    "una cantidad de segundos como parámetro y devuelva la cantidad\n",
    "de horas correspondientes. Solicitar al usuario los segundos y mostrar\n",
    "el resultado usando esta función."
   ]
  },
  {
   "cell_type": "code",
   "execution_count": null,
   "metadata": {},
   "outputs": [],
   "source": [
    "\n",
    "def de_segundos_a_horas(seconds):\n",
    "  return seconds // 3600\n",
    "\n",
    "# Decidí hacer una versión de la función que diera también los minutos y segundos sobrantes\n",
    "def de_segundos_a_horas_minutos_y_segundos(seconds):\n",
    "  hours = seconds // 3600\n",
    "  minutes = (seconds % 3600) // 60\n",
    "  seconds = seconds % 60\n",
    "  return hours, minutes, seconds\n",
    "\n",
    "input_seconds = int(input(\"¿Cuántos segundos quieres convertir a horas?: \"))\n",
    "#utilicé una variable horas para hacer el cálculo una sola vez y poder usar los ternarios para que el texto de saliada sea coherente.\n",
    "horas = de_segundos_a_horas(input_seconds)\n",
    "print(f\"{input_seconds} segundos {\"son\" if horas > 1 else \"es\"} {horas} {\"horas\" if horas > 1 else \"hora\"}\")\n",
    "\n",
    "#dejo una implementación comentada.\n",
    "# hours, minutes, seconds = de_segundos_a_horas_minutos_y_segundos(input_seconds)\n",
    "# print(f\"{input_seconds} segundos son {hours}:{minutes}:{seconds}\")\n",
    "\n"
   ]
  },
  {
   "cell_type": "markdown",
   "metadata": {},
   "source": [
    "6. Crear una función llamada tabla_multiplicar(numero) que reciba un\n",
    "número como parámetro y imprima la tabla de multiplicar de ese\n",
    "número del 1 al 10. Pedir al usuario el número y llamar a la función."
   ]
  },
  {
   "cell_type": "code",
   "execution_count": null,
   "metadata": {},
   "outputs": [],
   "source": [
    "# Se que podría haber utilizado el range(1,11), pero quería que la tabla quedara bien formateada y anteponer el \"0\" a los dígitos del 1 al 9. Primero pensé en poner un if, pero preguntar en cada iteración si el número era menor que 10 me parecía penalizar mucho considerando que de antemano sabemos que el único con 2 dígitos iba a ser el último.\n",
    "\n",
    "def tabla_de_multiplicar(number):\n",
    "  for i in range(1, 10):\n",
    "    print(f\"0{i} x {number} = {number * i}\")\n",
    "  print(f\"10 x {number} = {number * 10}\")\n",
    "\n",
    "number = int(input(\"Por favor ingresa un número natural para recibir su tabla: \"))\n",
    "tabla_de_multiplicar(number)"
   ]
  },
  {
   "cell_type": "markdown",
   "metadata": {},
   "source": [
    "7. Crear una función llamada operaciones_basicas(a, b) que reciba\n",
    "dos números como parámetros y devuelva una tupla con el resultado\n",
    "de sumarlos, restarlos, multiplicarlos y dividirlos. Mostrar los resultados\n",
    "de forma clara."
   ]
  },
  {
   "cell_type": "code",
   "execution_count": null,
   "metadata": {},
   "outputs": [],
   "source": [
    "def operaciones_basicas(a, b):\n",
    "  add = a + b\n",
    "  sub = a - b\n",
    "  mult = a * b\n",
    "  div = a / b\n",
    "  return add, sub, mult, div\n",
    "\n",
    "numberA = int(input(\"Ingrese un número: \"))\n",
    "numberB = int(input(\"Ingrese otro número: \"))\n",
    "\n",
    "suma, resta, multiplicacion, division = operaciones_basicas(numberA, numberB)\n",
    "\n",
    "print(f\"{numberA} + {numberB} = {suma}\")\n",
    "print(f\"{numberA} - {numberB} = {resta}\")\n",
    "print(f\"{numberA} x {numberB} = {multiplicacion}\")\n",
    "print(f\"{numberA} / {numberB} = {division}\")"
   ]
  },
  {
   "cell_type": "markdown",
   "metadata": {},
   "source": [
    "8. Crear una función llamada calcular_imc(peso, altura) que reciba el\n",
    "peso en kilogramos y la altura en metros, y devuelva el índice de\n",
    "masa corporal (IMC). Solicitar al usuario los datos y llamar a la función\n",
    "para mostrar el resultado con dos decimales."
   ]
  },
  {
   "cell_type": "code",
   "execution_count": null,
   "metadata": {},
   "outputs": [],
   "source": [
    "def calcular_imc(peso, altura):\n",
    "  return round(peso / altura ** 2, 2)\n",
    "\n",
    "peso = float(input(\"Por favor ingresa tu peso en Kg: \"))\n",
    "altura = float(input(\"Por favor ingresa tu altura en m: \"))\n",
    "\n",
    "print(f\"Tu imc es de {calcular_imc(peso, altura)}\")"
   ]
  },
  {
   "cell_type": "markdown",
   "metadata": {},
   "source": [
    "9. Crear una función llamada celsius_a_fahrenheit(celsius) que reciba\n",
    "una temperatura en grados Celsius y devuelva su equivalente en\n",
    "Fahrenheit. Pedir al usuario la temperatura en Celsius y mostrar el\n",
    "resultado usando la función."
   ]
  },
  {
   "cell_type": "code",
   "execution_count": null,
   "metadata": {},
   "outputs": [],
   "source": [
    "def celcius_a_farenheit(celsius):\n",
    "  return (celsius * 9/5) + 32\n",
    "\n",
    "celsius = float(input(\"Por favor ingresa una temperatura en grados celsius: \"))\n",
    "print(f\"{celsius} grados celsius equivalen a {celcius_a_farenheit(celsius)} grados farenheit.\")"
   ]
  },
  {
   "cell_type": "markdown",
   "metadata": {},
   "source": [
    "10. Crear una función llamada calcular_promedio(a, b, c) que reciba\n",
    "tres números como parámetros y devuelva el promedio de ellos.\n",
    "Solicitar los números al usuario y mostrar el resultado usando esta\n",
    "función."
   ]
  },
  {
   "cell_type": "code",
   "execution_count": 37,
   "metadata": {},
   "outputs": [
    {
     "name": "stdout",
     "output_type": "stream",
     "text": [
      "EL promedio de los números ingresados es: 5.33.\n"
     ]
    }
   ],
   "source": [
    "def calcular_promedio(a, b, c):\n",
    "  return round((a + b + c) /3, 2)\n",
    "\n",
    "numero1 = float(input(\"Ingresa por favor el primer número: \"))\n",
    "numero2 = float(input(\"Ingresa por favor el segundo número: \"))\n",
    "numero3 = float(input(\"Ingresa por favor el tercer número: \"))\n",
    "\n",
    "print(f\"EL promedio de los números ingresados es: {calcular_promedio(numero1, numero2, numero3)}.\")"
   ]
  }
 ],
 "metadata": {
  "kernelspec": {
   "display_name": "Python 3",
   "language": "python",
   "name": "python3"
  },
  "language_info": {
   "codemirror_mode": {
    "name": "ipython",
    "version": 3
   },
   "file_extension": ".py",
   "mimetype": "text/x-python",
   "name": "python",
   "nbconvert_exporter": "python",
   "pygments_lexer": "ipython3",
   "version": "3.13.2"
  }
 },
 "nbformat": 4,
 "nbformat_minor": 2
}
