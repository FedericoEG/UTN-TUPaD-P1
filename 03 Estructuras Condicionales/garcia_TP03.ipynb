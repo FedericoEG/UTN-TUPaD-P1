{
 "cells": [
  {
   "cell_type": "markdown",
   "metadata": {},
   "source": [
    "# Práctico 3: Estructuras condicionales"
   ]
  },
  {
   "cell_type": "markdown",
   "metadata": {},
   "source": [
    "1. Escribir un programa que solicite la edad del usuario. Si el usuario es mayor de 18 años,\n",
    "deberá mostrar un mensaje en pantalla que diga “Es mayor de edad”."
   ]
  },
  {
   "cell_type": "code",
   "execution_count": null,
   "metadata": {},
   "outputs": [],
   "source": [
    "age = int(input(\"Por favor ingresa tu edad: \"))\n",
    "if age > 18:\n",
    "  print(\"Eres mayor de edad\")"
   ]
  },
  {
   "cell_type": "markdown",
   "metadata": {},
   "source": [
    "2. Escribir un programa que solicite su nota al usuario. Si la nota es mayor o igual a 6, deberá\n",
    "mostrar por pantalla un mensaje que diga “Aprobado”; en caso contrario deberá mostrar el\n",
    "mensaje “Desaprobado”."
   ]
  },
  {
   "cell_type": "code",
   "execution_count": null,
   "metadata": {},
   "outputs": [],
   "source": [
    "calificacion = int(input(\"Por favor ingresa tu nota: \"))\n",
    "if calificacion >= 6:\n",
    "  print(\"Aprobado\")\n",
    "else:\n",
    "  print(\"Desaprobado\")"
   ]
  },
  {
   "cell_type": "markdown",
   "metadata": {},
   "source": [
    "3. Escribir un programa que permita ingresar solo números pares. Si el usuario ingresa un\n",
    "número par, imprimir por en pantalla el mensaje \"Ha ingresado un número par\"; en caso\n",
    "contrario, imprimir por pantalla \"Por favor, ingrese un número par\". Nota: investigar el uso del\n",
    "operador de módulo (%) en Python para evaluar si un número es par o impar."
   ]
  },
  {
   "cell_type": "code",
   "execution_count": null,
   "metadata": {},
   "outputs": [],
   "source": [
    "number = int(input(\"Por favor ingrese un número: \"))\n",
    "if number % 2 == 0:\n",
    "  print(\"Ha ingresado un número par\")\n",
    "else:\n",
    "  print(\"Por favor, ingrese un número par\")"
   ]
  },
  {
   "cell_type": "markdown",
   "metadata": {},
   "source": [
    "4. Escribir un programa que solicite al usuario su edad e imprima por pantalla a cuál de las\n",
    "siguientes categorías pertenece:\n",
    "  * Niño/a: menor de 12 años.\n",
    "  * Adolescente: mayor o igual que 12 años y menor que 18 años.\n",
    "  * Adulto/a joven: mayor o igual que 18 años y menor que 30 años.\n",
    "  * Adulto/a: mayor o igual que 30 años."
   ]
  },
  {
   "cell_type": "code",
   "execution_count": null,
   "metadata": {},
   "outputs": [],
   "source": [
    "age = int(input(\"Por favor ingresa tu edad: \"))\n",
    "\n",
    "if age < 0:\n",
    "  print(\"Todavía no has nacido\")\n",
    "elif age < 12:\n",
    "  print(\"Niño/a\")\n",
    "elif age < 18:\n",
    "  print(\"Adolescente\")\n",
    "elif age < 30:\n",
    "  print(\"Adulto/a joven\")\n",
    "else:\n",
    "  print(\"Adulto/a\")"
   ]
  },
  {
   "cell_type": "markdown",
   "metadata": {},
   "source": [
    "5. Escribir un programa que permita introducir contraseñas de entre 8 y 14 caracteres\n",
    "(incluyendo 8 y 14). Si el usuario ingresa una contraseña de longitud adecuada, imprimir por en\n",
    "pantalla el mensaje \"Ha ingresado una contraseña correcta\"; en caso contrario, imprimir por\n",
    "pantalla \"Por favor, ingrese una contraseña de entre 8 y 14 caracteres\". Nota: investigue el uso\n",
    "de la función len() en Python para evaluar la cantidad de elementos que tiene un iterable tal\n",
    "como una lista o un string."
   ]
  },
  {
   "cell_type": "code",
   "execution_count": null,
   "metadata": {},
   "outputs": [],
   "source": [
    "password = input(\"Por favor ingresa tu contraseña: \")\n",
    "if len(password) >= 8 and len(password) <= 14:\n",
    "  print(\"Ha ingresado una contraseña correcta\")\n",
    "else:\n",
    "  print(\"Por favor, ingrese una contraseña de entre 8 y 14 caracteres\")"
   ]
  },
  {
   "cell_type": "markdown",
   "metadata": {},
   "source": [
    "6. escribir un programa que tome la lista numeros_aleatorios, calcule su moda, su mediana y su media y las compare para determinar si\n",
    "hay sesgo positivo, negativo o no hay sesgo. Imprimir el resultado por pantalla."
   ]
  },
  {
   "cell_type": "code",
   "execution_count": null,
   "metadata": {},
   "outputs": [],
   "source": [
    "import random\n",
    "from statistics import mode, median, mean\n",
    "\n",
    "numbers = [random.randint(1, 100) for i in range(50)]\n",
    "mode= mode(numbers)\n",
    "median= median(numbers)\n",
    "mean= mean(numbers)\n",
    "\n",
    "if mode == median and median == mean:\n",
    "  print(\"Sin sesgo\")\n",
    "elif mean > median and median > mode:\n",
    "  print(\"Sesgo a la derecha\")\n",
    "elif mean < median and median < mode:\n",
    "  print(\"Sesgo a la izquierda\")\n",
    "else:\n",
    "  #Agregué esta considición porque a veces no se cumplen ninguna de las 3 condiciones anteriores\n",
    "  print(f\"la media es {mean}, la mediana es {median} y la moda es {mode}\")"
   ]
  },
  {
   "cell_type": "markdown",
   "metadata": {},
   "source": [
    "7. Escribir un programa que solicite una frase o palabra al usuario. Si el string ingresado\n",
    "termina con vocal, añadir un signo de exclamación al final e imprimir el string resultante por\n",
    "pantalla; en caso contrario, dejar el string tal cual lo ingresó el usuario e imprimirlo por\n",
    "pantalla."
   ]
  },
  {
   "cell_type": "code",
   "execution_count": null,
   "metadata": {},
   "outputs": [],
   "source": [
    "import re\n",
    "\n",
    "string = input(\"Por favor ingresa un texto: \")\n",
    "regex = re.compile(r\"[aeiou]$\")\n",
    "\n",
    "if regex.search(string):\n",
    "  string = string+'!'\n",
    "\n",
    "print(f\"{string}\")"
   ]
  },
  {
   "cell_type": "markdown",
   "metadata": {},
   "source": [
    "8. Escribir un programa que solicite al usuario que ingrese su nombre y el número 1, 2 o 3\n",
    "dependiendo de la opción que desee:\n",
    "   1. Si quiere su nombre en mayúsculas. Por ejemplo: PEDRO.\n",
    "   2. Si quiere su nombre en minúsculas. Por ejemplo: pedro.\n",
    "   3. Si quiere su nombre con la primera letra mayúscula. Por ejemplo: Pedro.\n",
    "El programa debe transformar el nombre ingresado de acuerdo a la opción seleccionada por el\n",
    "usuario e imprimir el resultado por pantalla. Nota: investigue uso de las funciones upper(),\n",
    "lower() y title() de Python para convertir entre mayúsculas y minúsculas."
   ]
  },
  {
   "cell_type": "code",
   "execution_count": null,
   "metadata": {},
   "outputs": [],
   "source": [
    "name = input(\"Por favor ingresa tu nombre: \")\n",
    "option = input(\"Por favor ingresa una opción (1 [para texto en mayúsculas], 2 [para texto en minúsculas] o 3 [para texto capitalizado]): \")\n",
    "\n",
    "if option == \"1\":\n",
    "  print(name.upper())\n",
    "elif option == \"2\":\n",
    "  print(name.lower())\n",
    "elif option == \"3\":\n",
    "  print(name.title())"
   ]
  },
  {
   "cell_type": "markdown",
   "metadata": {},
   "source": [
    "9. Escribir un programa que pida al usuario la magnitud de un terremoto, clasifique la magnitud en una de las siguientes categorías según la escala de Richter e imprima el resultado por pantalla:\n",
    "  * Menor que 3: \"Muy leve\" (imperceptible).\n",
    "  * Mayor o igual que 3 y menor que 4: \"Leve\" (ligeramente perceptible).\n",
    "  * Mayor o igual que 4 y menor que 5: \"Moderado\" (sentido por personas, pero generalmente no causa daños).\n",
    "  * Mayor o igual que 5 y menor que 6: \"Fuerte\" (puede causar daños en estructuras débiles).\n",
    "  * Mayor o igual que 6 y menor que 7: \"Muy Fuerte\" (puede causar daños significativos).\n",
    "  * Mayor o igual que 7: \"Extremo\" (puede causar graves daños a gran escala)."
   ]
  },
  {
   "cell_type": "code",
   "execution_count": null,
   "metadata": {},
   "outputs": [],
   "source": [
    "magnitude = float(input(\"Por favor ingresa la magnitud del terremoto: \"))\n",
    "\n",
    "if magnitude < 3:\n",
    "  print(\"\\\"Muy leve\\\" (imperceptible).\")\n",
    "elif magnitude < 4:\n",
    "  print(\"\\\"Leve\\\" (ligeramente perceptible).\")\n",
    "elif magnitude < 5:\n",
    "  print(\"\\\"Moderado\\\" (sentido por personas, pero generalmente no causa daños).\")\n",
    "elif magnitude < 6:\n",
    "  print(\"\\\"Fuerte\\\" (puede causar daños en estructuras débiles).\")\n",
    "elif magnitude < 7:\n",
    "  print(\"\\\"Muy fuerte\\\" (puede causar daños significativos).\")\n",
    "else:\n",
    "  print(\"\\\"Extremo\\\" (puede causar graves daños a gran escala).\")"
   ]
  },
  {
   "cell_type": "markdown",
   "metadata": {},
   "source": [
    "10. Utilizando la información aportada en la siguiente tabla sobre las estaciones del año\n",
    "\n",
    "| Periodo del año | Estación en el hemisferio norte | Estación en el hemisferio sur |\n",
    "|--|--|--|\n",
    "| Desde el 21 de diciembre hasta el 20 de marzo (incluidos) | Invierno | Verano |\n",
    "| Desde el 21 de marzo hasta el 20 de junio (incluidos) | Primavera | Otoño |\n",
    "| Desde el 21 de junio hasta el 20 de septiembre (incluidos) | Verano | Invierno |\n",
    "| Desde el 21 de septiembre hasta el 20 de diciembre (incluidos) | Otoño | Primavera |\n",
    "\n",
    "Escribir un programa que pregunte al usuario en cuál hemisferio se encuentra (N/S), qué mes del año es y qué día es. El programa deberá utilizar esa información para imprimir por pantalla si el usuario se encuentra en otoño, invierno, primavera o verano.\n",
    "\n",
    "**_NOTA_**: Decidí agregar validaciones tomando en cuenta si se utilizaba el programa en un año bisiesto. También valido los inputs y que la fecha sea una fecha posible"
   ]
  },
  {
   "cell_type": "code",
   "execution_count": null,
   "metadata": {},
   "outputs": [],
   "source": [
    "from datetime import date\n",
    "\n",
    "months = {\"enero\": 1, \"febrero\": 2, \"marzo\": 3, \"abril\": 4, \"mayo\": 5, \"junio\": 6, \"julio\": 7, \"agosto\": 8, \"septiembre\": 9, \"octubre\": 10, \"noviembre\": 11, \"diciembre\": 12}\n",
    "hemispheres = [\"norte\", \"sur\"]\n",
    "isValidInput = True\n",
    "year = date.today().year\n",
    "leapYearCorrection = 1 if (year % 4 == 0 and year % 100 != 0) or (year % 400 == 0) else 0\n",
    "\n",
    "hemisphere = input(\"Por favor ingresa el hemisferio en el que te encuentras (Norte o Sur): \").lower()\n",
    "day = int(input(\"Por favor ingresa el día: \"))\n",
    "month = input(\"Por favor ingresa el mes: \").lower()\n",
    "\n",
    "try:\n",
    "  date = date(year, months[month], day)\n",
    "  months[month]\n",
    "  hemispheres.index(hemisphere)\n",
    "except:\n",
    "  print(f\"El {day} de {month} no es una fecha válida.\") if hemisphere in hemispheres else print(f\"El {hemisphere} no es un hemisferio válido.\")\n",
    "  isValidInput = False\n",
    "\n",
    "if(isValidInput):\n",
    "  dayOfTheYear = date.timetuple().tm_yday\n",
    "  if hemisphere == \"norte\":\n",
    "    if dayOfTheYear >= 355 + leapYearCorrection or dayOfTheYear <= 79 + leapYearCorrection:\n",
    "      print(\"INVIERNO\")\n",
    "    elif 80 + leapYearCorrection <= dayOfTheYear <= 171 + leapYearCorrection:\n",
    "      print(\"PRIMAVERA\")\n",
    "    elif 172 + leapYearCorrection <= dayOfTheYear <= 263 + leapYearCorrection:\n",
    "      print(\"VERANO\")\n",
    "    else:\n",
    "      print(\"OTOÑO\")\n",
    "  else:\n",
    "    if dayOfTheYear >= 355 + leapYearCorrection or dayOfTheYear <= 79 + leapYearCorrection:\n",
    "      print(\"VERANO\")\n",
    "    elif 80 + leapYearCorrection <= dayOfTheYear <= 171 + leapYearCorrection:\n",
    "      print(\"OTOÑO\")\n",
    "    elif 172 + leapYearCorrection <= dayOfTheYear <= 263 + leapYearCorrection:\n",
    "      print(\"INVIERNO\")\n",
    "    else:\n",
    "      print(\"PRIMAVERA\")"
   ]
  }
 ],
 "metadata": {
  "kernelspec": {
   "display_name": "Python 3",
   "language": "python",
   "name": "python3"
  },
  "language_info": {
   "codemirror_mode": {
    "name": "ipython",
    "version": 3
   },
   "file_extension": ".py",
   "mimetype": "text/x-python",
   "name": "python",
   "nbconvert_exporter": "python",
   "pygments_lexer": "ipython3",
   "version": "3.13.2"
  }
 },
 "nbformat": 4,
 "nbformat_minor": 2
}
