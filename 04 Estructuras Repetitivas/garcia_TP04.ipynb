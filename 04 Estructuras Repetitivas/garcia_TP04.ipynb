{
 "cells": [
  {
   "cell_type": "markdown",
   "metadata": {},
   "source": [
    "# Práctico 4: Estructuras repetitivas"
   ]
  },
  {
   "cell_type": "markdown",
   "metadata": {},
   "source": [
    "1. Crea un programa que imprima en pantalla todos los números enteros desde 0 hasta 100\n",
    "(incluyendo ambos extremos), en orden creciente, mostrando un número por línea."
   ]
  },
  {
   "cell_type": "code",
   "execution_count": null,
   "metadata": {},
   "outputs": [],
   "source": [
    "for i in range(101):\n",
    "  print(i)"
   ]
  },
  {
   "cell_type": "markdown",
   "metadata": {},
   "source": [
    "2. Desarrolla un programa que solicite al usuario un número entero y determine la cantidad de\n",
    "dígitos que contiene."
   ]
  },
  {
   "cell_type": "code",
   "execution_count": null,
   "metadata": {},
   "outputs": [],
   "source": [
    "number = int(input(\"Ingresa un número entero: \"))\n",
    "digitsCounter = 0\n",
    "\n",
    "# Para poder utilizar sin problemas el operador de dividión entera convierto el número a positivo.\n",
    "if number < 0:\n",
    "  number = -number\n",
    "\n",
    "while number != 0:\n",
    "  number = number // 10\n",
    "  digitsCounter += 1\n",
    "\n",
    "print(f\"El número ingresado tiene {digitsCounter} {'dígitos' if digitsCounter > 1 else 'dígito'}\")\n"
   ]
  },
  {
   "cell_type": "markdown",
   "metadata": {},
   "source": [
    "3. Escribe un programa que sume todos los números enteros comprendidos entre dos valores\n",
    "dados por el usuario, excluyendo esos dos valores."
   ]
  },
  {
   "cell_type": "code",
   "execution_count": null,
   "metadata": {},
   "outputs": [],
   "source": [
    "number1= int(input(\"Ingresa un número entero: \"))\n",
    "number2 = int(input(\"Ingresa otro número entero: \"))\n",
    "total = 0\n",
    "\n",
    "# Me aseguro de tener los valores ordenados ascendentemente.\n",
    "if number1 > number2:\n",
    "  number1, number2 = number2, number1\n",
    "\n",
    "for i in range(number1 +1, number2):\n",
    "  total += i\n",
    "\n",
    "print(f\"La suma de los números entre {number1} y {number2} es {total}\")"
   ]
  },
  {
   "cell_type": "markdown",
   "metadata": {},
   "source": [
    "4. Elabora un programa que permita al usuario ingresar números enteros y los sume en\n",
    "secuencia. El programa debe detenerse y mostrar el total acumulado cuando el usuario ingrese\n",
    "un 0."
   ]
  },
  {
   "cell_type": "code",
   "execution_count": null,
   "metadata": {},
   "outputs": [],
   "source": [
    "total = 0\n",
    "\n",
    "number = int(input(\"Ingresa un número entero [0 para finalizar]: \"))\n",
    "\n",
    "while number != 0:\n",
    "  total += number\n",
    "  number = int(input(\"Ingresa un número entero [0 para finalizar]: \"))\n",
    "\n",
    "print(f\"La sumatoria total ingresado fue: {total}\")"
   ]
  },
  {
   "cell_type": "markdown",
   "metadata": {},
   "source": [
    "5. Crea un juego en el que el usuario deba adivinar un número aleatorio entre 0 y 9. Al final, el\n",
    "programa debe mostrar cuántos intentos fueron necesarios para acertar el número."
   ]
  },
  {
   "cell_type": "code",
   "execution_count": null,
   "metadata": {},
   "outputs": [],
   "source": [
    "import random\n",
    "\n",
    "misteriuosNumber = random.randint(0, 9)\n",
    "guesses = 1\n",
    "\n",
    "guess = int(input(f\"Intento {guesses}: Adivina el número misterioso entre 0 y 9: \"))\n",
    "\n",
    "while guess != misteriuosNumber:\n",
    "  guesses += 1\n",
    "  guess = int(input(f\"Intento {guesses}: Adivina el número misterioso entre 0 y 9: \"))\n",
    "\n",
    "print(f\"Felicitaciones, adivinaste el número misterioso {misteriuosNumber} en {guesses} {'intentos' if guesses > 1 else 'intento'}\")"
   ]
  },
  {
   "cell_type": "markdown",
   "metadata": {},
   "source": [
    "6. Desarrolla un programa que imprima en pantalla todos los números pares comprendidos\n",
    "entre 0 y 100, en orden decreciente."
   ]
  },
  {
   "cell_type": "code",
   "execution_count": null,
   "metadata": {},
   "outputs": [],
   "source": [
    "# Hago dos ciclos diferentes porque no pude interpretar en el enunciado si el 0 y el 100 debían ser mostrados\n",
    "\n",
    "# Con 0 y 100\n",
    "for i in range(100, -1, -2):\n",
    "  print(i, end=\" \")\n",
    "\n",
    "print('')\n",
    "print('===============================================================================================')\n",
    "\n",
    "# Sin 0 y 100\n",
    "for i in range(98, 0, -2):\n",
    "  print(i, end=\" \")"
   ]
  },
  {
   "cell_type": "markdown",
   "metadata": {},
   "source": [
    "7. Crea un programa que calcule la suma de todos los números comprendidos entre 0 y un\n",
    "número entero positivo indicado por el usuario"
   ]
  },
  {
   "cell_type": "code",
   "execution_count": null,
   "metadata": {},
   "outputs": [],
   "source": [
    "# Considero que el numero ingresado por el usuario no debe ser sumado.\n",
    "number = int(input(\"Ingresa un número entero positivo y superior a 0: \"))\n",
    "total = 0\n",
    "\n",
    "if number > 0:\n",
    "  for i in range(0, number):\n",
    "    total += i\n",
    "  print(f\"La suma de los números entre 0 y {number} es {total}\")\n",
    "else:\n",
    "  print(\"El número ingresado no es entero positivo y superior a 0.\")\n",
    "\n"
   ]
  },
  {
   "cell_type": "markdown",
   "metadata": {},
   "source": [
    "8. Escribe un programa que permita al usuario ingresar 100 números enteros. Luego, el\n",
    "programa debe indicar cuántos de estos números son pares, cuántos son impares, cuántos son\n",
    "negativos y cuántos son positivos. (Nota: para probar el programa puedes usar una cantidad\n",
    "menor, pero debe estar preparado para procesar 100 números con un solo cambio)."
   ]
  },
  {
   "cell_type": "code",
   "execution_count": null,
   "metadata": {},
   "outputs": [],
   "source": [
    "# Como no se solicita un contador de ceros, voy a considerarlo par y positivo.\n",
    "numbersToInput = 100\n",
    "oddNumbers = 0\n",
    "evenNumbers = 0\n",
    "positiveNumbers = 0\n",
    "negativeNumbers = 0\n",
    "\n",
    "for i in range(1, numbersToInput + 1):\n",
    "  number = int(input(\"Ingresa un número entero: \"))\n",
    "  if number % 2 == 0:\n",
    "    evenNumbers += 1\n",
    "  else:\n",
    "    oddNumbers += 1\n",
    "  if number >= 0:\n",
    "    positiveNumbers += 1\n",
    "  else:\n",
    "    negativeNumbers += 1\n",
    "\n",
    "print(f\"Se han ingresado un total de {numbersToInput}, de los cuales {evenNumbers} son pares, {oddNumbers} son impares, {positiveNumbers} son positivos y {negativeNumbers} son negativos.\")"
   ]
  },
  {
   "cell_type": "markdown",
   "metadata": {},
   "source": [
    "9. Elabora un programa que permita al usuario ingresar 100 números enteros y luego calcule la\n",
    "media de esos valores. (Nota: puedes probar el programa con una cantidad menor, pero debe\n",
    "poder procesar 100 números cambiando solo un valor)."
   ]
  },
  {
   "cell_type": "code",
   "execution_count": null,
   "metadata": {},
   "outputs": [],
   "source": [
    "numbersToInput = 100\n",
    "total = 0\n",
    "\n",
    "for i in range(numbersToInput):\n",
    "  number = int(input(\"Ingresa un número entero: \"))\n",
    "  total += number\n",
    "\n",
    "print(f\"La media de los números ingresados es {total / numbersToInput}\")"
   ]
  },
  {
   "cell_type": "markdown",
   "metadata": {},
   "source": [
    "10. Escribe un programa que invierta el orden de los dígitos de un número ingresado por el\n",
    "usuario. Ejemplo: si el usuario ingresa 547, el programa debe mostrar 745."
   ]
  },
  {
   "cell_type": "code",
   "execution_count": null,
   "metadata": {},
   "outputs": [],
   "source": [
    "number = int(input(\"Ingresa un número entero positivo: \"))\n",
    "digits = ''\n",
    "\n",
    "while number != 0:\n",
    "  digits += str((number % 10))\n",
    "  number = number // 10\n",
    "\n",
    "print(f\"El número ingresado al revés es: {digits}\")"
   ]
  }
 ],
 "metadata": {
  "kernelspec": {
   "display_name": "Python 3",
   "language": "python",
   "name": "python3"
  },
  "language_info": {
   "codemirror_mode": {
    "name": "ipython",
    "version": 3
   },
   "file_extension": ".py",
   "mimetype": "text/x-python",
   "name": "python",
   "nbconvert_exporter": "python",
   "pygments_lexer": "ipython3",
   "version": "3.13.2"
  }
 },
 "nbformat": 4,
 "nbformat_minor": 2
}
