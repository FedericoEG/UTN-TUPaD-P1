{
 "cells": [
  {
   "cell_type": "markdown",
   "metadata": {},
   "source": [
    "# Práctico 6.1: Recursividad"
   ]
  },
  {
   "cell_type": "markdown",
   "metadata": {},
   "source": [
    "1. Crea una función recursiva que calcule el factorial de un número. Luego, utiliza esa función para calcular y mostrar en pantalla el factorial de todos los números enteros entre 1 y el número que indique el usuario"
   ]
  },
  {
   "cell_type": "code",
   "execution_count": null,
   "metadata": {},
   "outputs": [],
   "source": [
    "def factorial(number):\n",
    "  if number == 0:\n",
    "    return 1\n",
    "  else:\n",
    "    return number * factorial(number - 1)\n",
    "\n",
    "number = int(input(\"Por favor ingrese un número: \"))\n",
    "\n",
    "for i in range(1, number+1):\n",
    "  print(f\"El factorial de {i} es {factorial(i)}\")"
   ]
  },
  {
   "cell_type": "markdown",
   "metadata": {},
   "source": [
    "2. Crea una función recursiva que calcule el valor de la serie de Fibonacci en la posición indicada. Posteriormente, muestra la serie completa hasta la posición que el usuario especifique."
   ]
  },
  {
   "cell_type": "code",
   "execution_count": null,
   "metadata": {},
   "outputs": [],
   "source": [
    "def fibonacci(position):\n",
    "  if position == 0:\n",
    "    return 0\n",
    "  elif position == 1:\n",
    "    return 1\n",
    "  else:\n",
    "    return fibonacci(position - 1) + fibonacci(position - 2)\n",
    "\n",
    "def printFibonacci(number):\n",
    "  fibo = \"\"\n",
    "  for i in range(1, number+1):\n",
    "    fibo += f\"{fibonacci(i)}, \"\n",
    "  return fibo[:-2]\n",
    "\n",
    "number = int(input(\"Por favor ingrese un número: \"))\n",
    "\n",
    "print(f\"La secuencia fibonacci hasta la posición {number} es: {printFibonacci(number)}\")"
   ]
  },
  {
   "cell_type": "markdown",
   "metadata": {},
   "source": [
    "3. Crea una función recursiva que calcule la potencia de un número base elevado a un exponente, utilizando la fórmula 𝑛𝑚= 𝑛∗𝑚(𝑚−1). Prueba esta función en un algoritmo general."
   ]
  },
  {
   "cell_type": "code",
   "execution_count": null,
   "metadata": {},
   "outputs": [],
   "source": [
    "def potencia(base, exponent):\n",
    "  if exponent == 0:\n",
    "    return 1\n",
    "  else:\n",
    "    return base * potencia(base, exponent - 1)\n",
    "\n",
    "base = int(input(\"Por favor ingrese una base: \"))\n",
    "exponent = int(input(\"Por favor ingrese un exponente: \"))\n",
    "\n",
    "print(f\"{base} elevado a {exponent} es: {potencia(base, exponent)}\")"
   ]
  },
  {
   "cell_type": "markdown",
   "metadata": {},
   "source": [
    "4. Crear una función recursiva en Python que reciba un número entero positivo en base decimal y devuelva su representación en **binario** como una **cadena de texto**."
   ]
  },
  {
   "cell_type": "code",
   "execution_count": null,
   "metadata": {},
   "outputs": [],
   "source": [
    "def to_binari(number):\n",
    "  if number == 0:\n",
    "    return \"0\"\n",
    "  elif number == 1:\n",
    "    return \"1\"\n",
    "  else:\n",
    "    return to_binari(number//2) + str(number % 2)\n",
    "\n",
    "print(to_binari(11))"
   ]
  },
  {
   "cell_type": "markdown",
   "metadata": {},
   "source": [
    "5. Implementá una función recursiva llamada es_palindromo(palabra) que reciba una cadena de texto sin espacios ni tildes, y devuelva True si es un palíndromo o False si no lo es."
   ]
  },
  {
   "cell_type": "code",
   "execution_count": null,
   "metadata": {},
   "outputs": [],
   "source": [
    "def es_palindromo(palabra):\n",
    "    if len(palabra) <= 1:\n",
    "        return True\n",
    "    if palabra[0] != palabra[-1]:\n",
    "        return False\n",
    "    return es_palindromo(palabra[1:-1])\n",
    "\n",
    "print(es_palindromo(\"radar\"))\n"
   ]
  },
  {
   "cell_type": "markdown",
   "metadata": {},
   "source": [
    "6. Escribí una función recursiva en Python llamada suma_digitos(n) que reciba un número entero positivo y devuelva la suma de todos sus dígitos."
   ]
  },
  {
   "cell_type": "code",
   "execution_count": null,
   "metadata": {},
   "outputs": [],
   "source": [
    "def suma_digitos(n):\n",
    "  if n // 10 == 0:\n",
    "    return n\n",
    "  else:\n",
    "    return n % 10 + suma_digitos(n // 10)\n",
    "\n",
    "print(suma_digitos(1983))\n"
   ]
  },
  {
   "cell_type": "markdown",
   "metadata": {},
   "source": [
    "7. Un niño está construyendo una pirámide con bloques. En el nivel más bajo coloca n bloques, en el siguiente nivel uno menos (n - 1), y así sucesivamente hasta llegar al último nivel con un solo bloque. Escribí una función recursiva contar_bloques(n) que reciba el número de bloques en el nivel más bajo y devuelva el total de bloques que necesita para construir toda la pirámide."
   ]
  },
  {
   "cell_type": "code",
   "execution_count": null,
   "metadata": {},
   "outputs": [],
   "source": [
    "def contar_bloques(n):\n",
    "  if n <= 1:\n",
    "    return n\n",
    "  else:\n",
    "    return n + contar_bloques(n - 1)\n",
    "\n",
    "print(contar_bloques(7))\n",
    "\n"
   ]
  },
  {
   "cell_type": "markdown",
   "metadata": {},
   "source": [
    "8. Escribí una función recursiva llamada contar_digito(numero, digito) que reciba un número entero positivo (numero) y un dígito (entre 0 y 9), y devuelva cuántas veces aparece ese dígito dentro del número."
   ]
  },
  {
   "cell_type": "code",
   "execution_count": null,
   "metadata": {},
   "outputs": [],
   "source": [
    "def contar_digito(numero, digito):\n",
    "  if numero // 10 == 0:\n",
    "    return 1 if numero == digito else 0\n",
    "  else:\n",
    "    return (1 if numero % 10 == digito else 0) + contar_digito(numero // 10, digito)\n",
    "\n",
    "print(contar_digito(11212,2))"
   ]
  }
 ],
 "metadata": {
  "kernelspec": {
   "display_name": "Python 3",
   "language": "python",
   "name": "python3"
  },
  "language_info": {
   "codemirror_mode": {
    "name": "ipython",
    "version": 3
   },
   "file_extension": ".py",
   "mimetype": "text/x-python",
   "name": "python",
   "nbconvert_exporter": "python",
   "pygments_lexer": "ipython3",
   "version": "3.13.2"
  }
 },
 "nbformat": 4,
 "nbformat_minor": 2
}
