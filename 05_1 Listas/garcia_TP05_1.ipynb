{
 "cells": [
  {
   "cell_type": "markdown",
   "metadata": {},
   "source": [
    "# Práctico 5.1: Listas"
   ]
  },
  {
   "cell_type": "markdown",
   "metadata": {},
   "source": [
    "1. Crear una lista con los números del 1 al 100 que sean múltiplos de 4. Utilizar la función range."
   ]
  },
  {
   "cell_type": "code",
   "execution_count": null,
   "metadata": {},
   "outputs": [],
   "source": [
    "lista = list(range(4,101,4))\n",
    "\n",
    "print(lista)"
   ]
  },
  {
   "cell_type": "markdown",
   "metadata": {},
   "source": [
    "2. Crear una lista con cinco elementos (colocar los elementos que más te gusten) y mostrar el penúltimo. ¡Puedes hacerlo como se muestra en los videos o bien investigar cómo funciona el indexing con números negativos!"
   ]
  },
  {
   "cell_type": "code",
   "execution_count": null,
   "metadata": {},
   "outputs": [],
   "source": [
    "dedos = [\"pulgar\", \"indice\", \"mayor\", \"anular\", \"meñique\"]\n",
    "\n",
    "print(dedos[-2])"
   ]
  },
  {
   "cell_type": "markdown",
   "metadata": {},
   "source": [
    "3. Crear una lista vacía, agregar tres palabras con append e imprimir la lista resultante por pantalla. Pista: para crear una lista vacía debes colocar los corchetes sin nada en su interior"
   ]
  },
  {
   "cell_type": "code",
   "execution_count": null,
   "metadata": {},
   "outputs": [],
   "source": [
    "palabras = []\n",
    "\n",
    "palabras.append(\"hola\")\n",
    "palabras.append(\"buenos\")\n",
    "palabras.append(\"dias\")\n",
    "\n",
    "print(palabras)"
   ]
  },
  {
   "cell_type": "markdown",
   "metadata": {},
   "source": [
    "4. Reemplazar el segundo y último valor de la lista “animales” con las palabras “loro” y “oso”, respectivamente. Imprimir la lista resultante por pantalla. ¡Puedes hacerlo como se muestra en los videos o bien investigar cómo funciona el indexing con números negativos!"
   ]
  },
  {
   "cell_type": "code",
   "execution_count": null,
   "metadata": {},
   "outputs": [],
   "source": [
    "animales = [\"perro\", \"gato\", \"conejo\", \"pez\"]\n",
    "animales[1] = \"loro\"\n",
    "animales[-1] = \"oso\"\n",
    "\n",
    "print(animales)"
   ]
  },
  {
   "cell_type": "markdown",
   "metadata": {},
   "source": [
    "5. Analizar el siguiente programa y explicar con tus palabras qué es lo que realiza."
   ]
  },
  {
   "cell_type": "markdown",
   "metadata": {},
   "source": [
    "La funcion `max` devuelve el valor máximo de un listado de números y este valor entra como parámetro para el m´todo `remove` que se encarga de quitar el primer elemento con ese valor de una lista. Por lo tanto el resultado impreso será la lista original sin el elemento 22."
   ]
  },
  {
   "cell_type": "markdown",
   "metadata": {},
   "source": [
    "6. Crear una lista con números del 10 al 30 (incluído), haciendo saltos de 5 en 5 y mostrar por pantalla los dos primeros."
   ]
  },
  {
   "cell_type": "code",
   "execution_count": null,
   "metadata": {},
   "outputs": [],
   "source": [
    "lista = list(range(10,31,5))\n",
    "\n",
    "print(lista[0:2])"
   ]
  },
  {
   "cell_type": "markdown",
   "metadata": {},
   "source": [
    "7. Reemplazar los dos valores centrales (índices 1 y 2) de la lista “autos” por dos nuevos valores cualesquiera."
   ]
  },
  {
   "cell_type": "code",
   "execution_count": null,
   "metadata": {},
   "outputs": [],
   "source": [
    "autos = [\"sedan\", \"polo\", \"suran\", \"gol\"]\n",
    "autos[1] = \"Ipanema\"\n",
    "autos[2] = \"Golf\"\n",
    "\n",
    "print(autos)"
   ]
  },
  {
   "cell_type": "markdown",
   "metadata": {},
   "source": [
    "8. Crear una lista vacía llamada \"dobles\" y agregar el doble de 5, 10 y 15 usando append directamente. Imprimir la lista resultante por pantalla."
   ]
  },
  {
   "cell_type": "code",
   "execution_count": null,
   "metadata": {},
   "outputs": [],
   "source": [
    "dobles = []\n",
    "dobles.append(10)\n",
    "dobles.append(20)\n",
    "dobles.append(30)\n",
    "\n",
    "print(dobles)"
   ]
  },
  {
   "cell_type": "markdown",
   "metadata": {},
   "source": [
    "9. Dada la lista “compras”, cuyos elementos representan los productos comprados por diferentes clientes: `compras = [[\"pan\", \"leche\"], [\"arroz\", \"fideos\", \"salsa\"], [\"agua\"]]`\n",
    "\n",
    "* Agregar \"jugo\" a la lista del tercer cliente usando append.\n",
    "* Reemplazar \"fideos\" por \"tallarines\" en la lista del segundo cliente.\n",
    "* Eliminar \"pan\" de la lista del primer cliente.\n",
    "* Imprimir la lista resultante por pantalla"
   ]
  },
  {
   "cell_type": "code",
   "execution_count": null,
   "metadata": {},
   "outputs": [],
   "source": [
    "compras = [[\"pan\", \"leche\"], [\"arroz\", \"fideos\", \"salsa\"], [\"agua\"]]\n",
    "compras[2].append(\"jugo\")\n",
    "compras[1][1] = \"tallarines\"\n",
    "compras[0].remove(\"pan\")\n",
    "\n",
    "print(compras)"
   ]
  },
  {
   "cell_type": "markdown",
   "metadata": {},
   "source": [
    "10. Elaborar una lista anidada llamada “lista_anidada” que contenga los siguientes elementos:\n",
    "\n",
    "* Posición lista_anidada[0]: 15\n",
    "* Posición lista_anidada[1]: True\n",
    "* Posición lista_anidada[2][0]: 25.5\n",
    "* Posición lista_anidada[2][1]: 57.9\n",
    "* Posición lista_anidada[2][2]: 30.6\n",
    "* Posición lista_anidada[3]: False\n",
    "\n",
    "Imprimir la lista resultante por pantalla."
   ]
  },
  {
   "cell_type": "code",
   "execution_count": null,
   "metadata": {},
   "outputs": [],
   "source": [
    "lista_anidada = [15, True, [25.5, 57.9, 30.6], False]\n",
    "\n",
    "print(lista_anidada)"
   ]
  }
 ],
 "metadata": {
  "kernelspec": {
   "display_name": "Python 3",
   "language": "python",
   "name": "python3"
  },
  "language_info": {
   "codemirror_mode": {
    "name": "ipython",
    "version": 3
   },
   "file_extension": ".py",
   "mimetype": "text/x-python",
   "name": "python",
   "nbconvert_exporter": "python",
   "pygments_lexer": "ipython3",
   "version": "3.13.2"
  }
 },
 "nbformat": 4,
 "nbformat_minor": 2
}
